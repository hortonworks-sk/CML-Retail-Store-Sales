{
 "cells": [
  {
   "cell_type": "code",
   "execution_count": 1,
   "id": "public-cambodia",
   "metadata": {},
   "outputs": [
    {
     "name": "stdout",
     "output_type": "stream",
     "text": [
      "Requirement already satisfied: numpy in /usr/local/lib/python3.7/site-packages (1.19.4)\n",
      "Note: you may need to restart the kernel to use updated packages.\n"
     ]
    }
   ],
   "source": [
    "pip install numpy"
   ]
  },
  {
   "cell_type": "code",
   "execution_count": 2,
   "id": "optimum-threat",
   "metadata": {},
   "outputs": [
    {
     "name": "stdout",
     "output_type": "stream",
     "text": [
      "Requirement already satisfied: pandas in ./.local/lib/python3.7/site-packages (1.3.2)\n",
      "Requirement already satisfied: python-dateutil>=2.7.3 in /usr/local/lib/python3.7/site-packages (from pandas) (2.8.1)\n",
      "Requirement already satisfied: pytz>=2017.3 in /usr/local/lib/python3.7/site-packages (from pandas) (2021.1)\n",
      "Requirement already satisfied: numpy>=1.17.3 in /usr/local/lib/python3.7/site-packages (from pandas) (1.19.4)\n",
      "Requirement already satisfied: six>=1.5 in /usr/local/lib/python3.7/site-packages (from python-dateutil>=2.7.3->pandas) (1.15.0)\n",
      "Note: you may need to restart the kernel to use updated packages.\n"
     ]
    }
   ],
   "source": [
    "pip install pandas"
   ]
  },
  {
   "cell_type": "code",
   "execution_count": 3,
   "id": "scientific-maple",
   "metadata": {},
   "outputs": [
    {
     "name": "stdout",
     "output_type": "stream",
     "text": [
      "Requirement already satisfied: seaborn in ./.local/lib/python3.7/site-packages (0.11.2)\n",
      "Requirement already satisfied: numpy>=1.15 in /usr/local/lib/python3.7/site-packages (from seaborn) (1.19.4)\n",
      "Requirement already satisfied: matplotlib>=2.2 in /usr/local/lib/python3.7/site-packages (from seaborn) (3.3.2)\n",
      "Requirement already satisfied: scipy>=1.0 in ./.local/lib/python3.7/site-packages (from seaborn) (1.7.1)\n",
      "Requirement already satisfied: pandas>=0.23 in ./.local/lib/python3.7/site-packages (from seaborn) (1.3.2)\n",
      "Requirement already satisfied: certifi>=2020.06.20 in /usr/local/lib/python3.7/site-packages (from matplotlib>=2.2->seaborn) (2020.11.8)\n",
      "Requirement already satisfied: python-dateutil>=2.1 in /usr/local/lib/python3.7/site-packages (from matplotlib>=2.2->seaborn) (2.8.1)\n",
      "Requirement already satisfied: pyparsing!=2.0.4,!=2.1.2,!=2.1.6,>=2.0.3 in /usr/local/lib/python3.7/site-packages (from matplotlib>=2.2->seaborn) (2.4.7)\n",
      "Requirement already satisfied: cycler>=0.10 in /usr/local/lib/python3.7/site-packages (from matplotlib>=2.2->seaborn) (0.10.0)\n",
      "Requirement already satisfied: pillow>=6.2.0 in /usr/local/lib/python3.7/site-packages (from matplotlib>=2.2->seaborn) (8.2.0)\n",
      "Requirement already satisfied: kiwisolver>=1.0.1 in /usr/local/lib/python3.7/site-packages (from matplotlib>=2.2->seaborn) (1.3.1)\n",
      "Requirement already satisfied: six in /usr/local/lib/python3.7/site-packages (from cycler>=0.10->matplotlib>=2.2->seaborn) (1.15.0)\n",
      "Requirement already satisfied: pytz>=2017.3 in /usr/local/lib/python3.7/site-packages (from pandas>=0.23->seaborn) (2021.1)\n",
      "Note: you may need to restart the kernel to use updated packages.\n"
     ]
    }
   ],
   "source": [
    "pip install seaborn"
   ]
  },
  {
   "cell_type": "code",
   "execution_count": 4,
   "id": "correct-interface",
   "metadata": {},
   "outputs": [
    {
     "name": "stdout",
     "output_type": "stream",
     "text": [
      "Requirement already satisfied: pip in ./.local/lib/python3.7/site-packages (21.2.4)\n",
      "Note: you may need to restart the kernel to use updated packages.\n"
     ]
    }
   ],
   "source": [
    "pip install --upgrade pip"
   ]
  },
  {
   "cell_type": "code",
   "execution_count": 5,
   "id": "secondary-portal",
   "metadata": {},
   "outputs": [
    {
     "name": "stdout",
     "output_type": "stream",
     "text": [
      "Collecting sklearn\n",
      "  Using cached sklearn-0.0.tar.gz (1.1 kB)\n",
      "Requirement already satisfied: scikit-learn in ./.local/lib/python3.7/site-packages (from sklearn) (0.24.2)\n",
      "Requirement already satisfied: joblib>=0.11 in ./.local/lib/python3.7/site-packages (from scikit-learn->sklearn) (1.0.1)\n",
      "Requirement already satisfied: scipy>=0.19.1 in ./.local/lib/python3.7/site-packages (from scikit-learn->sklearn) (1.7.1)\n",
      "Requirement already satisfied: threadpoolctl>=2.0.0 in ./.local/lib/python3.7/site-packages (from scikit-learn->sklearn) (2.2.0)\n",
      "Requirement already satisfied: numpy>=1.13.3 in /usr/local/lib/python3.7/site-packages (from scikit-learn->sklearn) (1.19.4)\n",
      "Building wheels for collected packages: sklearn\n",
      "  Building wheel for sklearn (setup.py) ... \u001b[?25ldone\n",
      "\u001b[?25h  Created wheel for sklearn: filename=sklearn-0.0-py2.py3-none-any.whl size=1316 sha256=00067f2bc7940104fb189cb4449e96805e21f9637fbcdb207bf0164c651519dc\n",
      "  Stored in directory: /home/cdsw/.cache/pip/wheels/46/ef/c3/157e41f5ee1372d1be90b09f74f82b10e391eaacca8f22d33e\n",
      "Successfully built sklearn\n",
      "Installing collected packages: sklearn\n",
      "Successfully installed sklearn-0.0\n",
      "Note: you may need to restart the kernel to use updated packages.\n"
     ]
    }
   ],
   "source": [
    "pip install sklearn"
   ]
  },
  {
   "cell_type": "code",
   "execution_count": 6,
   "id": "scientific-attendance",
   "metadata": {},
   "outputs": [
    {
     "name": "stdout",
     "output_type": "stream",
     "text": [
      "Requirement already satisfied: missingno in ./.local/lib/python3.7/site-packages (0.5.0)\n",
      "Requirement already satisfied: matplotlib in /usr/local/lib/python3.7/site-packages (from missingno) (3.3.2)\n",
      "Requirement already satisfied: scipy in ./.local/lib/python3.7/site-packages (from missingno) (1.7.1)\n",
      "Requirement already satisfied: seaborn in ./.local/lib/python3.7/site-packages (from missingno) (0.11.2)\n",
      "Requirement already satisfied: numpy in /usr/local/lib/python3.7/site-packages (from missingno) (1.19.4)\n",
      "Requirement already satisfied: certifi>=2020.06.20 in /usr/local/lib/python3.7/site-packages (from matplotlib->missingno) (2020.11.8)\n",
      "Requirement already satisfied: pillow>=6.2.0 in /usr/local/lib/python3.7/site-packages (from matplotlib->missingno) (8.2.0)\n",
      "Requirement already satisfied: cycler>=0.10 in /usr/local/lib/python3.7/site-packages (from matplotlib->missingno) (0.10.0)\n",
      "Requirement already satisfied: python-dateutil>=2.1 in /usr/local/lib/python3.7/site-packages (from matplotlib->missingno) (2.8.1)\n",
      "Requirement already satisfied: kiwisolver>=1.0.1 in /usr/local/lib/python3.7/site-packages (from matplotlib->missingno) (1.3.1)\n",
      "Requirement already satisfied: pyparsing!=2.0.4,!=2.1.2,!=2.1.6,>=2.0.3 in /usr/local/lib/python3.7/site-packages (from matplotlib->missingno) (2.4.7)\n",
      "Requirement already satisfied: six in /usr/local/lib/python3.7/site-packages (from cycler>=0.10->matplotlib->missingno) (1.15.0)\n",
      "Requirement already satisfied: pandas>=0.23 in ./.local/lib/python3.7/site-packages (from seaborn->missingno) (1.3.2)\n",
      "Requirement already satisfied: pytz>=2017.3 in /usr/local/lib/python3.7/site-packages (from pandas>=0.23->seaborn->missingno) (2021.1)\n",
      "Note: you may need to restart the kernel to use updated packages.\n"
     ]
    }
   ],
   "source": [
    "pip install missingno"
   ]
  },
  {
   "cell_type": "code",
   "execution_count": 7,
   "id": "unknown-equity",
   "metadata": {},
   "outputs": [
    {
     "name": "stdout",
     "output_type": "stream",
     "text": [
      "Requirement already satisfied: tabulate in ./.local/lib/python3.7/site-packages (0.8.9)\n",
      "Note: you may need to restart the kernel to use updated packages.\n"
     ]
    }
   ],
   "source": [
    "pip install tabulate"
   ]
  },
  {
   "cell_type": "code",
   "execution_count": 8,
   "id": "ecological-exhibition",
   "metadata": {},
   "outputs": [
    {
     "name": "stdout",
     "output_type": "stream",
     "text": [
      "Requirement already satisfied: colorama>=0.3.8 in ./.local/lib/python3.7/site-packages (0.4.4)\n",
      "Note: you may need to restart the kernel to use updated packages.\n"
     ]
    }
   ],
   "source": [
    "pip install \"colorama>=0.3.8\""
   ]
  },
  {
   "cell_type": "code",
   "execution_count": 9,
   "id": "verbal-dating",
   "metadata": {},
   "outputs": [
    {
     "name": "stdout",
     "output_type": "stream",
     "text": [
      "Requirement already satisfied: future in ./.local/lib/python3.7/site-packages (0.18.2)\n",
      "Note: you may need to restart the kernel to use updated packages.\n"
     ]
    }
   ],
   "source": [
    "pip install future"
   ]
  },
  {
   "cell_type": "code",
   "execution_count": 10,
   "id": "adolescent-porcelain",
   "metadata": {},
   "outputs": [
    {
     "name": "stdout",
     "output_type": "stream",
     "text": [
      "Looking in links: http://h2o-release.s3.amazonaws.com/h2o/latest_stable_Py.html\n",
      "Requirement already satisfied: h2o in ./.local/lib/python3.7/site-packages (3.32.1.7)\n",
      "Requirement already satisfied: requests in /usr/local/lib/python3.7/site-packages (from h2o) (2.25.1)\n",
      "Requirement already satisfied: future in ./.local/lib/python3.7/site-packages (from h2o) (0.18.2)\n",
      "Requirement already satisfied: tabulate in ./.local/lib/python3.7/site-packages (from h2o) (0.8.9)\n",
      "Requirement already satisfied: colorama>=0.3.8 in ./.local/lib/python3.7/site-packages (from h2o) (0.4.4)\n",
      "Requirement already satisfied: idna<3,>=2.5 in /usr/local/lib/python3.7/site-packages (from requests->h2o) (2.10)\n",
      "Requirement already satisfied: chardet<5,>=3.0.2 in /usr/local/lib/python3.7/site-packages (from requests->h2o) (4.0.0)\n",
      "Requirement already satisfied: urllib3<1.27,>=1.21.1 in /usr/local/lib/python3.7/site-packages (from requests->h2o) (1.26.3)\n",
      "Requirement already satisfied: certifi>=2017.4.17 in /usr/local/lib/python3.7/site-packages (from requests->h2o) (2020.11.8)\n",
      "Note: you may need to restart the kernel to use updated packages.\n"
     ]
    }
   ],
   "source": [
    "pip install -f http://h2o-release.s3.amazonaws.com/h2o/latest_stable_Py.html h2o"
   ]
  },
  {
   "cell_type": "code",
   "execution_count": 11,
   "id": "seeing-laser",
   "metadata": {},
   "outputs": [
    {
     "name": "stdout",
     "output_type": "stream",
     "text": [
      "Requirement already satisfied: auto-sklearn==0.13.0 in ./.local/lib/python3.7/site-packages (0.13.0)\n",
      "Requirement already satisfied: dask<2021.07 in ./.local/lib/python3.7/site-packages (from auto-sklearn==0.13.0) (2021.6.2)\n",
      "Requirement already satisfied: smac>=0.14 in ./.local/lib/python3.7/site-packages (from auto-sklearn==0.13.0) (1.0.1)\n",
      "Requirement already satisfied: scipy>=1.7.0 in ./.local/lib/python3.7/site-packages (from auto-sklearn==0.13.0) (1.7.1)\n",
      "Requirement already satisfied: pynisher>=0.6.3 in ./.local/lib/python3.7/site-packages (from auto-sklearn==0.13.0) (0.6.4)\n",
      "Requirement already satisfied: setuptools in /usr/local/lib/python3.7/site-packages (from auto-sklearn==0.13.0) (47.1.0)\n",
      "Requirement already satisfied: typing-extensions in /usr/local/lib/python3.7/site-packages (from auto-sklearn==0.13.0) (3.7.4.3)\n",
      "Requirement already satisfied: pyyaml in ./.local/lib/python3.7/site-packages (from auto-sklearn==0.13.0) (5.4.1)\n",
      "Requirement already satisfied: scikit-learn<0.25.0,>=0.24.0 in ./.local/lib/python3.7/site-packages (from auto-sklearn==0.13.0) (0.24.2)\n",
      "Requirement already satisfied: pandas>=1.0 in ./.local/lib/python3.7/site-packages (from auto-sklearn==0.13.0) (1.3.2)\n",
      "Requirement already satisfied: liac-arff in ./.local/lib/python3.7/site-packages (from auto-sklearn==0.13.0) (2.5.0)\n",
      "Requirement already satisfied: threadpoolctl in ./.local/lib/python3.7/site-packages (from auto-sklearn==0.13.0) (2.2.0)\n",
      "Requirement already satisfied: ConfigSpace<0.5,>=0.4.14 in ./.local/lib/python3.7/site-packages (from auto-sklearn==0.13.0) (0.4.20)\n",
      "Requirement already satisfied: pyrfr<0.9,>=0.8.1 in ./.local/lib/python3.7/site-packages (from auto-sklearn==0.13.0) (0.8.2)\n",
      "Requirement already satisfied: numpy>=1.9.0 in /usr/local/lib/python3.7/site-packages (from auto-sklearn==0.13.0) (1.19.4)\n",
      "Requirement already satisfied: joblib in ./.local/lib/python3.7/site-packages (from auto-sklearn==0.13.0) (1.0.1)\n",
      "Requirement already satisfied: distributed<2021.07,>=2.2.0 in ./.local/lib/python3.7/site-packages (from auto-sklearn==0.13.0) (2021.6.2)\n",
      "Requirement already satisfied: cython in ./.local/lib/python3.7/site-packages (from ConfigSpace<0.5,>=0.4.14->auto-sklearn==0.13.0) (0.29.24)\n",
      "Requirement already satisfied: pyparsing in /usr/local/lib/python3.7/site-packages (from ConfigSpace<0.5,>=0.4.14->auto-sklearn==0.13.0) (2.4.7)\n",
      "Requirement already satisfied: cloudpickle>=1.1.1 in ./.local/lib/python3.7/site-packages (from dask<2021.07->auto-sklearn==0.13.0) (1.6.0)\n",
      "Requirement already satisfied: partd>=0.3.10 in ./.local/lib/python3.7/site-packages (from dask<2021.07->auto-sklearn==0.13.0) (1.2.0)\n",
      "Requirement already satisfied: toolz>=0.8.2 in ./.local/lib/python3.7/site-packages (from dask<2021.07->auto-sklearn==0.13.0) (0.11.1)\n",
      "Requirement already satisfied: fsspec>=0.6.0 in ./.local/lib/python3.7/site-packages (from dask<2021.07->auto-sklearn==0.13.0) (2021.8.1)\n",
      "Requirement already satisfied: zict>=0.1.3 in ./.local/lib/python3.7/site-packages (from distributed<2021.07,>=2.2.0->auto-sklearn==0.13.0) (2.0.0)\n",
      "Requirement already satisfied: click>=6.6 in ./.local/lib/python3.7/site-packages (from distributed<2021.07,>=2.2.0->auto-sklearn==0.13.0) (8.0.1)\n",
      "Requirement already satisfied: msgpack>=0.6.0 in ./.local/lib/python3.7/site-packages (from distributed<2021.07,>=2.2.0->auto-sklearn==0.13.0) (1.0.2)\n",
      "Requirement already satisfied: tblib>=1.6.0 in ./.local/lib/python3.7/site-packages (from distributed<2021.07,>=2.2.0->auto-sklearn==0.13.0) (1.7.0)\n",
      "Requirement already satisfied: sortedcontainers!=2.0.0,!=2.0.1 in ./.local/lib/python3.7/site-packages (from distributed<2021.07,>=2.2.0->auto-sklearn==0.13.0) (2.4.0)\n",
      "Requirement already satisfied: tornado>=5 in /usr/local/lib/python3.7/site-packages (from distributed<2021.07,>=2.2.0->auto-sklearn==0.13.0) (6.1)\n",
      "Requirement already satisfied: psutil>=5.0 in ./.local/lib/python3.7/site-packages (from distributed<2021.07,>=2.2.0->auto-sklearn==0.13.0) (5.8.0)\n",
      "Requirement already satisfied: importlib-metadata in /usr/local/lib/python3.7/site-packages (from click>=6.6->distributed<2021.07,>=2.2.0->auto-sklearn==0.13.0) (3.4.0)\n",
      "Requirement already satisfied: python-dateutil>=2.7.3 in /usr/local/lib/python3.7/site-packages (from pandas>=1.0->auto-sklearn==0.13.0) (2.8.1)\n",
      "Requirement already satisfied: pytz>=2017.3 in /usr/local/lib/python3.7/site-packages (from pandas>=1.0->auto-sklearn==0.13.0) (2021.1)\n",
      "Requirement already satisfied: locket in ./.local/lib/python3.7/site-packages (from partd>=0.3.10->dask<2021.07->auto-sklearn==0.13.0) (0.2.1)\n",
      "Requirement already satisfied: six>=1.5 in /usr/local/lib/python3.7/site-packages (from python-dateutil>=2.7.3->pandas>=1.0->auto-sklearn==0.13.0) (1.15.0)\n",
      "Requirement already satisfied: heapdict in ./.local/lib/python3.7/site-packages (from zict>=0.1.3->distributed<2021.07,>=2.2.0->auto-sklearn==0.13.0) (1.0.1)\n",
      "Requirement already satisfied: zipp>=0.5 in /usr/local/lib/python3.7/site-packages (from importlib-metadata->click>=6.6->distributed<2021.07,>=2.2.0->auto-sklearn==0.13.0) (3.4.0)\n",
      "Note: you may need to restart the kernel to use updated packages.\n"
     ]
    }
   ],
   "source": [
    "pip install auto-sklearn==0.13.0"
   ]
  },
  {
   "cell_type": "code",
   "execution_count": null,
   "id": "sweet-twins",
   "metadata": {},
   "outputs": [],
   "source": []
  }
 ],
 "metadata": {
  "kernelspec": {
   "display_name": "Python 3",
   "language": "python",
   "name": "python3"
  },
  "language_info": {
   "codemirror_mode": {
    "name": "ipython",
    "version": 3
   },
   "file_extension": ".py",
   "mimetype": "text/x-python",
   "name": "python",
   "nbconvert_exporter": "python",
   "pygments_lexer": "ipython3",
   "version": "3.7.10"
  }
 },
 "nbformat": 4,
 "nbformat_minor": 5
}
